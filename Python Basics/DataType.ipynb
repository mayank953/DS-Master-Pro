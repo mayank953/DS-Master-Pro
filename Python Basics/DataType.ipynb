{
 "cells": [
  {
   "cell_type": "code",
   "execution_count": 1,
   "id": "6551ebe1-9d03-4761-9271-26e6a6d640f3",
   "metadata": {
    "tags": []
   },
   "outputs": [],
   "source": [
    "a = 5\n",
    "b = 5.5"
   ]
  },
  {
   "cell_type": "code",
   "execution_count": null,
   "id": "e8663f20-659c-4660-8c18-c66ba9bf1e8e",
   "metadata": {},
   "outputs": [],
   "source": []
  },
  {
   "cell_type": "code",
   "execution_count": 2,
   "id": "88f600c0-d4df-440c-84dc-1de885ef4a48",
   "metadata": {
    "tags": []
   },
   "outputs": [
    {
     "data": {
      "text/plain": [
       "int"
      ]
     },
     "execution_count": 2,
     "metadata": {},
     "output_type": "execute_result"
    }
   ],
   "source": [
    "type(a)"
   ]
  },
  {
   "cell_type": "code",
   "execution_count": 3,
   "id": "525c0617-4e1e-4dfd-992a-9d084a468ae0",
   "metadata": {
    "tags": []
   },
   "outputs": [
    {
     "data": {
      "text/plain": [
       "float"
      ]
     },
     "execution_count": 3,
     "metadata": {},
     "output_type": "execute_result"
    }
   ],
   "source": [
    "type(b)"
   ]
  },
  {
   "cell_type": "code",
   "execution_count": null,
   "id": "5c84b6e0-6ac6-4eb5-92e3-e4b381710f79",
   "metadata": {},
   "outputs": [],
   "source": []
  },
  {
   "cell_type": "markdown",
   "id": "2b962b5f-16a8-4a85-9948-efa694d59792",
   "metadata": {},
   "source": [
    "# Dynamic Behaviour of Data Types in Python"
   ]
  },
  {
   "cell_type": "code",
   "execution_count": null,
   "id": "f86e31f8-3c01-432c-8c97-af2da840fcaf",
   "metadata": {},
   "outputs": [],
   "source": []
  },
  {
   "cell_type": "code",
   "execution_count": 1,
   "id": "d5787a8d-91b1-4573-8462-14db14e1fb66",
   "metadata": {
    "tags": []
   },
   "outputs": [],
   "source": [
    " var1 =  5\n",
    "    "
   ]
  },
  {
   "cell_type": "code",
   "execution_count": 2,
   "id": "a3e51201-b31b-481c-a502-aa9fd9d8525f",
   "metadata": {
    "tags": []
   },
   "outputs": [
    {
     "data": {
      "text/plain": [
       "int"
      ]
     },
     "execution_count": 2,
     "metadata": {},
     "output_type": "execute_result"
    }
   ],
   "source": [
    "type(var1)"
   ]
  },
  {
   "cell_type": "code",
   "execution_count": 3,
   "id": "044b6f13-034b-48ee-b653-8eb32d282bf9",
   "metadata": {
    "tags": []
   },
   "outputs": [],
   "source": [
    "var1 = \"python\""
   ]
  },
  {
   "cell_type": "code",
   "execution_count": 4,
   "id": "9069c922-d8b0-4a56-a251-3e73ced5d35c",
   "metadata": {
    "tags": []
   },
   "outputs": [
    {
     "data": {
      "text/plain": [
       "'python'"
      ]
     },
     "execution_count": 4,
     "metadata": {},
     "output_type": "execute_result"
    }
   ],
   "source": [
    "var1 "
   ]
  },
  {
   "cell_type": "code",
   "execution_count": 5,
   "id": "84cb5d38-ac4f-4798-a923-cd08872dd168",
   "metadata": {
    "tags": []
   },
   "outputs": [
    {
     "data": {
      "text/plain": [
       "str"
      ]
     },
     "execution_count": 5,
     "metadata": {},
     "output_type": "execute_result"
    }
   ],
   "source": [
    "type(var1)"
   ]
  },
  {
   "cell_type": "code",
   "execution_count": null,
   "id": "87946f5a-2612-432c-9985-9a53a94f2ca6",
   "metadata": {},
   "outputs": [],
   "source": []
  },
  {
   "cell_type": "code",
   "execution_count": 7,
   "id": "b69b9686-1639-4b3e-8955-114123e76c0d",
   "metadata": {
    "tags": []
   },
   "outputs": [
    {
     "data": {
      "text/plain": [
       "5.0"
      ]
     },
     "execution_count": 7,
     "metadata": {},
     "output_type": "execute_result"
    }
   ],
   "source": [
    "import math \n",
    "math.sqrt(25)"
   ]
  },
  {
   "cell_type": "code",
   "execution_count": 6,
   "id": "70d27b5e-067f-4e22-a9bc-e202f9808d05",
   "metadata": {
    "tags": []
   },
   "outputs": [],
   "source": [
    "import sys"
   ]
  },
  {
   "cell_type": "code",
   "execution_count": 8,
   "id": "28d5837b-e4d7-4665-8477-d8b7f3b37e21",
   "metadata": {
    "tags": []
   },
   "outputs": [],
   "source": [
    "var2 = 0"
   ]
  },
  {
   "cell_type": "code",
   "execution_count": 9,
   "id": "639744d7-2ab9-4e97-8b5c-ac1032da695b",
   "metadata": {
    "tags": []
   },
   "outputs": [
    {
     "data": {
      "text/plain": [
       "28"
      ]
     },
     "execution_count": 9,
     "metadata": {},
     "output_type": "execute_result"
    }
   ],
   "source": [
    "sys.getsizeof(var2)"
   ]
  },
  {
   "cell_type": "code",
   "execution_count": 10,
   "id": "599dd005-5dfe-462f-9363-8066b4c1428e",
   "metadata": {
    "tags": []
   },
   "outputs": [],
   "source": [
    "var2 = 1"
   ]
  },
  {
   "cell_type": "code",
   "execution_count": 11,
   "id": "5253e25c-a694-44d0-b806-4cb1eb154790",
   "metadata": {
    "tags": []
   },
   "outputs": [
    {
     "data": {
      "text/plain": [
       "28"
      ]
     },
     "execution_count": 11,
     "metadata": {},
     "output_type": "execute_result"
    }
   ],
   "source": [
    "sys.getsizeof(var2)"
   ]
  },
  {
   "cell_type": "code",
   "execution_count": 12,
   "id": "c64f1f00-0397-4484-b10a-221a8e09b844",
   "metadata": {
    "tags": []
   },
   "outputs": [],
   "source": [
    "var2 = 12223242"
   ]
  },
  {
   "cell_type": "code",
   "execution_count": 13,
   "id": "32095378-549e-49d3-8cb1-ab46cb790571",
   "metadata": {
    "tags": []
   },
   "outputs": [
    {
     "data": {
      "text/plain": [
       "28"
      ]
     },
     "execution_count": 13,
     "metadata": {},
     "output_type": "execute_result"
    }
   ],
   "source": [
    "sys.getsizeof(var2)"
   ]
  },
  {
   "cell_type": "code",
   "execution_count": 14,
   "id": "81bd48d1-d018-4ced-94ad-41ef060d11de",
   "metadata": {
    "tags": []
   },
   "outputs": [],
   "source": [
    "var2 = 1242151351351513"
   ]
  },
  {
   "cell_type": "code",
   "execution_count": 15,
   "id": "df63d094-c018-4286-bb82-10ddb057e184",
   "metadata": {
    "tags": []
   },
   "outputs": [
    {
     "data": {
      "text/plain": [
       "32"
      ]
     },
     "execution_count": 15,
     "metadata": {},
     "output_type": "execute_result"
    }
   ],
   "source": [
    "sys.getsizeof(var2)"
   ]
  },
  {
   "cell_type": "code",
   "execution_count": 19,
   "id": "b0c2fc1d-0a44-447a-ab02-ac098cf6797b",
   "metadata": {
    "tags": []
   },
   "outputs": [],
   "source": [
    "var2 = 19318538957017583175081375031706581370561751"
   ]
  },
  {
   "cell_type": "code",
   "execution_count": 20,
   "id": "9795f9aa-1a7c-4cf5-99a9-842dd0f083f7",
   "metadata": {
    "tags": []
   },
   "outputs": [
    {
     "data": {
      "text/plain": [
       "19318538957017583175081375031706581370561751"
      ]
     },
     "execution_count": 20,
     "metadata": {},
     "output_type": "execute_result"
    }
   ],
   "source": [
    "var2"
   ]
  },
  {
   "cell_type": "code",
   "execution_count": 21,
   "id": "b5bf0aef-f283-44eb-9830-5c5c7a2b9f8b",
   "metadata": {
    "tags": []
   },
   "outputs": [
    {
     "data": {
      "text/plain": [
       "44"
      ]
     },
     "execution_count": 21,
     "metadata": {},
     "output_type": "execute_result"
    }
   ],
   "source": [
    "sys.getsizeof(var2)"
   ]
  },
  {
   "cell_type": "code",
   "execution_count": 22,
   "id": "6930eed0-e751-4844-92dc-f6eef6fa454a",
   "metadata": {
    "tags": []
   },
   "outputs": [],
   "source": [
    "var2= 3"
   ]
  },
  {
   "cell_type": "code",
   "execution_count": 23,
   "id": "1b79ae88-6228-444d-a8f8-ef73708478ec",
   "metadata": {
    "tags": []
   },
   "outputs": [
    {
     "data": {
      "text/plain": [
       "28"
      ]
     },
     "execution_count": 23,
     "metadata": {},
     "output_type": "execute_result"
    }
   ],
   "source": [
    "sys.getsizeof(var2)"
   ]
  },
  {
   "cell_type": "code",
   "execution_count": 25,
   "id": "45779e9d-a1c8-48cc-8f93-e0491ba52ef0",
   "metadata": {
    "tags": []
   },
   "outputs": [
    {
     "data": {
      "text/plain": [
       "3"
      ]
     },
     "execution_count": 25,
     "metadata": {},
     "output_type": "execute_result"
    }
   ],
   "source": [
    "var2"
   ]
  },
  {
   "cell_type": "code",
   "execution_count": 24,
   "id": "d05551a9-dbcf-4108-896f-5dc2d1cbb9df",
   "metadata": {
    "tags": []
   },
   "outputs": [
    {
     "data": {
      "text/plain": [
       "int"
      ]
     },
     "execution_count": 24,
     "metadata": {},
     "output_type": "execute_result"
    }
   ],
   "source": [
    "type(var2)"
   ]
  },
  {
   "cell_type": "code",
   "execution_count": 26,
   "id": "7776ba9a-a080-4287-b237-cb4fd28ade21",
   "metadata": {
    "tags": []
   },
   "outputs": [],
   "source": [
    "var2 = 1931853895701758317508137503170658137056175153918591385"
   ]
  },
  {
   "cell_type": "code",
   "execution_count": 27,
   "id": "8b986229-05cb-415b-8bf8-858e27b01674",
   "metadata": {
    "tags": []
   },
   "outputs": [
    {
     "data": {
      "text/plain": [
       "1931853895701758317508137503170658137056175153918591385"
      ]
     },
     "execution_count": 27,
     "metadata": {},
     "output_type": "execute_result"
    }
   ],
   "source": [
    "var2"
   ]
  },
  {
   "cell_type": "code",
   "execution_count": 28,
   "id": "e3ddd88b-b095-46db-9aec-660238604a7b",
   "metadata": {
    "tags": []
   },
   "outputs": [
    {
     "data": {
      "text/plain": [
       "int"
      ]
     },
     "execution_count": 28,
     "metadata": {},
     "output_type": "execute_result"
    }
   ],
   "source": [
    "type(var2)"
   ]
  },
  {
   "cell_type": "code",
   "execution_count": null,
   "id": "be384a19-eeaa-4f97-bb2a-ca7d75eb67c6",
   "metadata": {},
   "outputs": [],
   "source": []
  },
  {
   "cell_type": "code",
   "execution_count": null,
   "id": "13b682ad-ad62-4219-b28d-8d48b3495268",
   "metadata": {},
   "outputs": [],
   "source": []
  },
  {
   "cell_type": "code",
   "execution_count": null,
   "id": "4bf8abbb-7d57-4ffe-b9d3-8deb914d4cea",
   "metadata": {},
   "outputs": [],
   "source": []
  },
  {
   "cell_type": "code",
   "execution_count": 29,
   "id": "569952e2-734e-4c1b-ab4a-8b01cb6bb231",
   "metadata": {
    "tags": []
   },
   "outputs": [
    {
     "name": "stdout",
     "output_type": "stream",
     "text": [
      "<class 'int'>\n",
      "<class 'int'>\n",
      "<class 'int'>\n"
     ]
    }
   ],
   "source": [
    "int1 = 5\n",
    "int2 = 0\n",
    "int3 = -5\n",
    "\n",
    "\n",
    "print(type(int1))\n",
    "print(type(int2))\n",
    "print(type(int3))"
   ]
  },
  {
   "cell_type": "code",
   "execution_count": null,
   "id": "4d6392c3-4003-469d-84c1-4e4e7df013e6",
   "metadata": {},
   "outputs": [],
   "source": []
  },
  {
   "cell_type": "code",
   "execution_count": null,
   "id": "cd6c82d9-093c-405a-a8ac-46f1b5f73c1f",
   "metadata": {},
   "outputs": [],
   "source": []
  },
  {
   "cell_type": "code",
   "execution_count": 30,
   "id": "73bc76fe-87c1-49dd-9a68-b7028c1c19d7",
   "metadata": {
    "tags": []
   },
   "outputs": [
    {
     "name": "stdout",
     "output_type": "stream",
     "text": [
      "<class 'float'>\n",
      "<class 'float'>\n",
      "<class 'float'>\n"
     ]
    }
   ],
   "source": [
    "float1 = 5.0\n",
    "float2 = 0.1421\n",
    "float3 = -5.41\n",
    "\n",
    "\n",
    "print(type(float1))\n",
    "print(type(float2))\n",
    "print(type(float3))"
   ]
  },
  {
   "cell_type": "code",
   "execution_count": 31,
   "id": "2f21d5b0-41bd-465c-8f9c-124d8b1d579a",
   "metadata": {
    "tags": []
   },
   "outputs": [],
   "source": [
    "float1=5"
   ]
  },
  {
   "cell_type": "code",
   "execution_count": 33,
   "id": "ad34ffe7-5b12-45fa-8b50-a0c6c10e6878",
   "metadata": {
    "tags": []
   },
   "outputs": [
    {
     "name": "stdout",
     "output_type": "stream",
     "text": [
      "<class 'int'>\n"
     ]
    }
   ],
   "source": [
    "print(type(float1))"
   ]
  },
  {
   "cell_type": "code",
   "execution_count": null,
   "id": "64613ab9-ffdc-423a-b976-08232a59e6b1",
   "metadata": {},
   "outputs": [],
   "source": []
  },
  {
   "cell_type": "code",
   "execution_count": 41,
   "id": "e79a383b-f971-4ed8-b540-61b07207f617",
   "metadata": {
    "tags": []
   },
   "outputs": [],
   "source": [
    "f1 = 3.5e3"
   ]
  },
  {
   "cell_type": "code",
   "execution_count": 42,
   "id": "21503e30-ee8c-4cc1-9fb3-85492de80d6b",
   "metadata": {
    "tags": []
   },
   "outputs": [
    {
     "data": {
      "text/plain": [
       "3500.0"
      ]
     },
     "execution_count": 42,
     "metadata": {},
     "output_type": "execute_result"
    }
   ],
   "source": [
    "f1"
   ]
  },
  {
   "cell_type": "code",
   "execution_count": 43,
   "id": "a4475d7a-8c36-499a-adf9-89d290c11780",
   "metadata": {
    "tags": []
   },
   "outputs": [
    {
     "name": "stdout",
     "output_type": "stream",
     "text": [
      "<class 'float'>\n"
     ]
    },
    {
     "data": {
      "text/plain": [
       "int"
      ]
     },
     "execution_count": 43,
     "metadata": {},
     "output_type": "execute_result"
    }
   ],
   "source": [
    "print(type(f1))\n",
    "f1=3500\n",
    "type(f1)"
   ]
  },
  {
   "cell_type": "code",
   "execution_count": 36,
   "id": "62a5661f-4026-412f-9d06-226c932a84da",
   "metadata": {
    "tags": []
   },
   "outputs": [],
   "source": [
    "f2 = 1e-3"
   ]
  },
  {
   "cell_type": "code",
   "execution_count": 37,
   "id": "e656eb61-3400-4b99-96b4-d4bb7642fcc4",
   "metadata": {
    "tags": []
   },
   "outputs": [
    {
     "data": {
      "text/plain": [
       "0.001"
      ]
     },
     "execution_count": 37,
     "metadata": {},
     "output_type": "execute_result"
    }
   ],
   "source": [
    "f2"
   ]
  },
  {
   "cell_type": "code",
   "execution_count": null,
   "id": "ef3ba758-2a9f-478b-ba3d-b50fdfcd4e30",
   "metadata": {},
   "outputs": [],
   "source": []
  },
  {
   "cell_type": "code",
   "execution_count": 48,
   "id": "d892cbe7-5b52-4e43-b889-e1aa37055ae7",
   "metadata": {
    "tags": []
   },
   "outputs": [],
   "source": [
    "c1 = 4+5j"
   ]
  },
  {
   "cell_type": "code",
   "execution_count": 49,
   "id": "8716632a-d17f-476e-a19f-6af11eed074d",
   "metadata": {
    "tags": []
   },
   "outputs": [
    {
     "data": {
      "text/plain": [
       "complex"
      ]
     },
     "execution_count": 49,
     "metadata": {},
     "output_type": "execute_result"
    }
   ],
   "source": [
    "type(c1)"
   ]
  },
  {
   "cell_type": "code",
   "execution_count": null,
   "id": "d2114e54-eeab-4a7a-acca-9518a2a10e5a",
   "metadata": {},
   "outputs": [],
   "source": []
  },
  {
   "cell_type": "code",
   "execution_count": null,
   "id": "89e6f1d9-d1a4-436c-b823-0662d171c8ec",
   "metadata": {},
   "outputs": [],
   "source": []
  },
  {
   "cell_type": "markdown",
   "id": "43edf301-8efe-4531-81a3-1b643f3bdff3",
   "metadata": {},
   "source": [
    "# Boolean Data Type"
   ]
  },
  {
   "cell_type": "code",
   "execution_count": 51,
   "id": "43a79782-605a-499a-b927-8e32b4ad6f3a",
   "metadata": {
    "tags": []
   },
   "outputs": [],
   "source": [
    "b1= True"
   ]
  },
  {
   "cell_type": "code",
   "execution_count": 52,
   "id": "c1f38916-17ad-45c1-855c-f44a14cca922",
   "metadata": {
    "tags": []
   },
   "outputs": [
    {
     "name": "stdout",
     "output_type": "stream",
     "text": [
      "True\n"
     ]
    }
   ],
   "source": [
    "print(b1)"
   ]
  },
  {
   "cell_type": "code",
   "execution_count": 54,
   "id": "c0ad93b6-930f-4448-a635-d2979480eef8",
   "metadata": {
    "tags": []
   },
   "outputs": [
    {
     "data": {
      "text/plain": [
       "bool"
      ]
     },
     "execution_count": 54,
     "metadata": {},
     "output_type": "execute_result"
    }
   ],
   "source": [
    "(type(b1))"
   ]
  },
  {
   "cell_type": "code",
   "execution_count": 55,
   "id": "60ca4729-e81b-459f-a79f-8d21a4546373",
   "metadata": {
    "tags": []
   },
   "outputs": [],
   "source": [
    "b2 = False"
   ]
  },
  {
   "cell_type": "code",
   "execution_count": 56,
   "id": "fd030c43-38c2-40c1-beb6-2c0979986aff",
   "metadata": {
    "tags": []
   },
   "outputs": [
    {
     "name": "stdout",
     "output_type": "stream",
     "text": [
      "False\n"
     ]
    }
   ],
   "source": [
    "print(b2)"
   ]
  },
  {
   "cell_type": "code",
   "execution_count": 57,
   "id": "76d161d7-1b54-4a33-9faf-ac9c9af17dba",
   "metadata": {
    "tags": []
   },
   "outputs": [
    {
     "data": {
      "text/plain": [
       "bool"
      ]
     },
     "execution_count": 57,
     "metadata": {},
     "output_type": "execute_result"
    }
   ],
   "source": [
    "type(b2)"
   ]
  },
  {
   "cell_type": "code",
   "execution_count": 58,
   "id": "39eccc51-cfd6-41d0-bcd9-d0b8908e1b8b",
   "metadata": {
    "tags": []
   },
   "outputs": [],
   "source": [
    "t1 = True\n",
    "t2 = True"
   ]
  },
  {
   "cell_type": "code",
   "execution_count": 59,
   "id": "3703c962-7bb8-412e-91f0-274ae98b1ad8",
   "metadata": {
    "tags": []
   },
   "outputs": [
    {
     "data": {
      "text/plain": [
       "2"
      ]
     },
     "execution_count": 59,
     "metadata": {},
     "output_type": "execute_result"
    }
   ],
   "source": [
    "t1+t2"
   ]
  },
  {
   "cell_type": "code",
   "execution_count": 61,
   "id": "0bef5f6a-14c8-4bdb-ad52-59ef0e57d179",
   "metadata": {
    "tags": []
   },
   "outputs": [],
   "source": [
    "ans = t1 + False"
   ]
  },
  {
   "cell_type": "code",
   "execution_count": 62,
   "id": "3de87c0e-7066-4deb-90ba-7aae742f5577",
   "metadata": {
    "tags": []
   },
   "outputs": [
    {
     "data": {
      "text/plain": [
       "int"
      ]
     },
     "execution_count": 62,
     "metadata": {},
     "output_type": "execute_result"
    }
   ],
   "source": [
    "type(ans)"
   ]
  },
  {
   "cell_type": "code",
   "execution_count": 63,
   "id": "4a7e50a2-8855-40b6-8cb2-85c6206d07e3",
   "metadata": {
    "tags": []
   },
   "outputs": [
    {
     "data": {
      "text/plain": [
       "1"
      ]
     },
     "execution_count": 63,
     "metadata": {},
     "output_type": "execute_result"
    }
   ],
   "source": [
    "ans"
   ]
  },
  {
   "cell_type": "code",
   "execution_count": null,
   "id": "3b2be3da-8283-4c79-99f2-9230348ee6f6",
   "metadata": {},
   "outputs": [],
   "source": []
  },
  {
   "cell_type": "code",
   "execution_count": null,
   "id": "a3ac0f35-fa89-40d2-8d73-b3cf6ba4d8db",
   "metadata": {},
   "outputs": [],
   "source": []
  },
  {
   "cell_type": "markdown",
   "id": "745c65bd-584a-4669-a2c5-f8e8f812d8d7",
   "metadata": {},
   "source": [
    "# string"
   ]
  },
  {
   "cell_type": "code",
   "execution_count": 64,
   "id": "5c0bf0b9-707e-4054-9e1d-6022002f7154",
   "metadata": {
    "tags": []
   },
   "outputs": [],
   "source": [
    "s1 = 'abc'"
   ]
  },
  {
   "cell_type": "code",
   "execution_count": 65,
   "id": "fed33d0c-c9ac-4937-bd55-c0e18234c8f1",
   "metadata": {
    "tags": []
   },
   "outputs": [],
   "source": [
    "s2 = \"def\""
   ]
  },
  {
   "cell_type": "code",
   "execution_count": 66,
   "id": "3d5e032e-d026-4979-a110-41fd43a036bd",
   "metadata": {
    "tags": []
   },
   "outputs": [
    {
     "data": {
      "text/plain": [
       "'abc'"
      ]
     },
     "execution_count": 66,
     "metadata": {},
     "output_type": "execute_result"
    }
   ],
   "source": [
    "s1"
   ]
  },
  {
   "cell_type": "code",
   "execution_count": 69,
   "id": "997d066f-5082-4ec7-86bb-08c57f64b9e9",
   "metadata": {
    "tags": []
   },
   "outputs": [
    {
     "data": {
      "text/plain": [
       "'def'"
      ]
     },
     "execution_count": 69,
     "metadata": {},
     "output_type": "execute_result"
    }
   ],
   "source": [
    "(s2)"
   ]
  },
  {
   "cell_type": "code",
   "execution_count": 70,
   "id": "b3d7b8a6-d07e-40aa-b6c2-e5acdcda2c6b",
   "metadata": {
    "tags": []
   },
   "outputs": [
    {
     "data": {
      "text/plain": [
       "str"
      ]
     },
     "execution_count": 70,
     "metadata": {},
     "output_type": "execute_result"
    }
   ],
   "source": [
    "type(s1)\n"
   ]
  },
  {
   "cell_type": "code",
   "execution_count": 71,
   "id": "56de6de3-ac93-4d15-94df-1caeccc4cdd1",
   "metadata": {
    "tags": []
   },
   "outputs": [
    {
     "name": "stdout",
     "output_type": "stream",
     "text": [
      "<class 'str'>\n"
     ]
    }
   ],
   "source": [
    "print(type(s2))"
   ]
  },
  {
   "cell_type": "code",
   "execution_count": null,
   "id": "0e5809f1-a8b4-41cc-a46a-259e5b6f4ce4",
   "metadata": {},
   "outputs": [],
   "source": []
  },
  {
   "cell_type": "code",
   "execution_count": 73,
   "id": "c4d1d042-ac86-4822-b520-e0bb04db2c7c",
   "metadata": {
    "tags": []
   },
   "outputs": [],
   "source": [
    "s3 = 'abccas'"
   ]
  },
  {
   "cell_type": "code",
   "execution_count": 75,
   "id": "526c2f63-6874-44f6-8aa1-4f2076d4a421",
   "metadata": {
    "tags": []
   },
   "outputs": [],
   "source": [
    "s4 = \"abiga\""
   ]
  },
  {
   "cell_type": "code",
   "execution_count": 76,
   "id": "83a44f00-5683-4d9a-8745-78459f7f581b",
   "metadata": {
    "tags": []
   },
   "outputs": [
    {
     "data": {
      "text/plain": [
       "'abccas'"
      ]
     },
     "execution_count": 76,
     "metadata": {},
     "output_type": "execute_result"
    }
   ],
   "source": [
    "s3"
   ]
  },
  {
   "cell_type": "code",
   "execution_count": null,
   "id": "4ee18c03-8035-4d04-99ee-3270ef743cd6",
   "metadata": {},
   "outputs": [],
   "source": []
  },
  {
   "cell_type": "code",
   "execution_count": null,
   "id": "427d2a0f-0f7e-41c3-b73d-53309a339d80",
   "metadata": {},
   "outputs": [],
   "source": []
  },
  {
   "cell_type": "markdown",
   "id": "862d44ec-73c0-4dd7-849c-fc4ac575e85c",
   "metadata": {
    "tags": []
   },
   "source": [
    "# Slicing"
   ]
  },
  {
   "cell_type": "code",
   "execution_count": 78,
   "id": "7626ab21-7a30-4fd4-b9a1-01cc1c554dee",
   "metadata": {
    "tags": []
   },
   "outputs": [],
   "source": [
    "s1 =  \"PYTHON\""
   ]
  },
  {
   "cell_type": "code",
   "execution_count": 81,
   "id": "29ec0375-b723-44c4-b119-5d2e7b1b21bb",
   "metadata": {
    "tags": []
   },
   "outputs": [
    {
     "name": "stdout",
     "output_type": "stream",
     "text": [
      "P\n",
      "Y\n",
      "T\n",
      "H\n",
      "O\n",
      "N\n"
     ]
    }
   ],
   "source": [
    "print(s1[0])\n",
    "print(s1[1])\n",
    "print(s1[2])\n",
    "print(s1[3])\n",
    "print(s1[4])\n",
    "print(s1[5])"
   ]
  },
  {
   "cell_type": "code",
   "execution_count": 84,
   "id": "9aaecada-dcb0-4342-abed-aca233b8adc8",
   "metadata": {
    "tags": []
   },
   "outputs": [
    {
     "name": "stdout",
     "output_type": "stream",
     "text": [
      "N\n"
     ]
    }
   ],
   "source": [
    "print(s1[5])"
   ]
  },
  {
   "cell_type": "code",
   "execution_count": 88,
   "id": "234db254-c728-48fe-85df-5d49e0d7da45",
   "metadata": {
    "tags": []
   },
   "outputs": [
    {
     "name": "stdout",
     "output_type": "stream",
     "text": [
      "N\n",
      "O\n",
      "H\n",
      "T\n",
      "Y\n",
      "P\n"
     ]
    }
   ],
   "source": [
    "print(s1[-1])\n",
    "print(s1[-2])\n",
    "print(s1[-3])\n",
    "print(s1[-4])\n",
    "print(s1[-5])\n",
    "print(s1[-6])"
   ]
  },
  {
   "cell_type": "code",
   "execution_count": 89,
   "id": "9234ba4e-1c00-46a3-95ad-3995655be5ef",
   "metadata": {
    "tags": []
   },
   "outputs": [
    {
     "ename": "IndexError",
     "evalue": "string index out of range",
     "output_type": "error",
     "traceback": [
      "\u001b[0;31m---------------------------------------------------------------------------\u001b[0m",
      "\u001b[0;31mIndexError\u001b[0m                                Traceback (most recent call last)",
      "Cell \u001b[0;32mIn[89], line 1\u001b[0m\n\u001b[0;32m----> 1\u001b[0m \u001b[38;5;28mprint\u001b[39m(s1[\u001b[38;5;241m-\u001b[39m\u001b[38;5;241m7\u001b[39m])\n",
      "\u001b[0;31mIndexError\u001b[0m: string index out of range"
     ]
    }
   ],
   "source": [
    "print(s1[-7])"
   ]
  },
  {
   "cell_type": "code",
   "execution_count": null,
   "id": "0b7bacb0-02ec-4459-bfbd-3e2c885678dc",
   "metadata": {},
   "outputs": [],
   "source": []
  },
  {
   "cell_type": "code",
   "execution_count": 90,
   "id": "a48c9ad2-e8eb-4d00-a87a-a71e85d2b208",
   "metadata": {
    "tags": []
   },
   "outputs": [],
   "source": [
    "s2 = \"BOMBAY\""
   ]
  },
  {
   "cell_type": "code",
   "execution_count": 91,
   "id": "1be1277f-f062-4a25-abde-c43d8d98e293",
   "metadata": {
    "tags": []
   },
   "outputs": [],
   "source": [
    "s3 = \"LOS-ANGELES\""
   ]
  },
  {
   "cell_type": "code",
   "execution_count": null,
   "id": "2938fe62-804b-459e-b295-06a44d7b5d5e",
   "metadata": {},
   "outputs": [],
   "source": []
  },
  {
   "cell_type": "markdown",
   "id": "207ab998-eaca-49d0-b4fd-9499369be362",
   "metadata": {},
   "source": [
    "# Slicing"
   ]
  },
  {
   "cell_type": "code",
   "execution_count": 92,
   "id": "4ca51f0f-f9bf-4f68-9716-c821d4823838",
   "metadata": {
    "tags": []
   },
   "outputs": [],
   "source": [
    "s1 = \"PYTHON\""
   ]
  },
  {
   "cell_type": "code",
   "execution_count": 93,
   "id": "031ccb4e-0c1f-47bc-8ab3-5b5662a486ce",
   "metadata": {
    "tags": []
   },
   "outputs": [
    {
     "data": {
      "text/plain": [
       "'PY'"
      ]
     },
     "execution_count": 93,
     "metadata": {},
     "output_type": "execute_result"
    }
   ],
   "source": [
    "s1[0:2]"
   ]
  },
  {
   "cell_type": "code",
   "execution_count": null,
   "id": "045aabe7-145b-4c46-a32c-aacd7dedc153",
   "metadata": {},
   "outputs": [],
   "source": []
  },
  {
   "cell_type": "code",
   "execution_count": null,
   "id": "7b9f9aa8-0fc2-4f5b-930e-b4db248bc304",
   "metadata": {},
   "outputs": [],
   "source": []
  },
  {
   "cell_type": "code",
   "execution_count": null,
   "id": "f15eec08-c362-4e98-8522-638b9599e439",
   "metadata": {},
   "outputs": [],
   "source": []
  },
  {
   "cell_type": "code",
   "execution_count": 95,
   "id": "7053ded2-ad56-44ee-a9ea-9db358643877",
   "metadata": {
    "tags": []
   },
   "outputs": [
    {
     "data": {
      "text/plain": [
       "'PYTHON'"
      ]
     },
     "execution_count": 95,
     "metadata": {},
     "output_type": "execute_result"
    }
   ],
   "source": [
    "s1[:len(s1)]"
   ]
  },
  {
   "cell_type": "code",
   "execution_count": null,
   "id": "0943e182-6b93-4d7c-ac36-1b26d622f182",
   "metadata": {},
   "outputs": [],
   "source": []
  },
  {
   "cell_type": "code",
   "execution_count": null,
   "id": "1dad6b54-8690-41cd-a2df-06300aa8c304",
   "metadata": {},
   "outputs": [],
   "source": []
  },
  {
   "cell_type": "code",
   "execution_count": null,
   "id": "13419a92-1c9e-4a34-89ff-7089ac64b8f8",
   "metadata": {},
   "outputs": [],
   "source": []
  },
  {
   "cell_type": "code",
   "execution_count": 96,
   "id": "834275e3-3873-470c-9864-62cf3555b460",
   "metadata": {
    "tags": []
   },
   "outputs": [
    {
     "data": {
      "text/plain": [
       "'PYTHON'"
      ]
     },
     "execution_count": 96,
     "metadata": {},
     "output_type": "execute_result"
    }
   ],
   "source": [
    "s1"
   ]
  },
  {
   "cell_type": "code",
   "execution_count": 97,
   "id": "5b655397-ca9e-402a-94f3-35894c0ad6ce",
   "metadata": {
    "tags": []
   },
   "outputs": [
    {
     "data": {
      "text/plain": [
       "'PY'"
      ]
     },
     "execution_count": 97,
     "metadata": {},
     "output_type": "execute_result"
    }
   ],
   "source": [
    "s1[-6:-4]"
   ]
  },
  {
   "cell_type": "code",
   "execution_count": 100,
   "id": "299ec874-8d68-4a1e-89ae-c29e075c1c15",
   "metadata": {
    "tags": []
   },
   "outputs": [
    {
     "data": {
      "text/plain": [
       "'PO'"
      ]
     },
     "execution_count": 100,
     "metadata": {},
     "output_type": "execute_result"
    }
   ],
   "source": [
    "s1[0:6:4]"
   ]
  },
  {
   "cell_type": "code",
   "execution_count": null,
   "id": "7d11382e-b262-4cf0-9002-ef53468f0d93",
   "metadata": {},
   "outputs": [],
   "source": []
  },
  {
   "cell_type": "code",
   "execution_count": 90,
   "id": "f9bd67d2-6b05-4fb0-88ca-9ebeab33a690",
   "metadata": {
    "tags": []
   },
   "outputs": [],
   "source": [
    "s2 = \"BOMBAY\""
   ]
  },
  {
   "cell_type": "code",
   "execution_count": null,
   "id": "ce38ceb7-d751-4b0f-8d20-5b1ae7d726d3",
   "metadata": {},
   "outputs": [],
   "source": []
  },
  {
   "cell_type": "code",
   "execution_count": null,
   "id": "80b6499c-ccd6-4338-a258-9c0754a6a3b7",
   "metadata": {},
   "outputs": [],
   "source": []
  },
  {
   "cell_type": "code",
   "execution_count": null,
   "id": "0cde5858-4da2-4f46-a703-d30fa5e76233",
   "metadata": {},
   "outputs": [],
   "source": []
  },
  {
   "cell_type": "code",
   "execution_count": null,
   "id": "add266aa-596f-4e26-bb1f-7060d1b1c98d",
   "metadata": {},
   "outputs": [],
   "source": []
  },
  {
   "cell_type": "code",
   "execution_count": 91,
   "id": "fe7f1751-ecda-4a7e-94a3-f2b4805a032e",
   "metadata": {
    "tags": []
   },
   "outputs": [],
   "source": [
    "s3 = \"LOS-ANGELES\""
   ]
  },
  {
   "cell_type": "code",
   "execution_count": null,
   "id": "8fcdaa3b-8b73-45ec-bb30-f42049cc4fa0",
   "metadata": {},
   "outputs": [],
   "source": []
  },
  {
   "cell_type": "code",
   "execution_count": null,
   "id": "a5fe5bd8-f73b-4c78-b550-561395fb7413",
   "metadata": {},
   "outputs": [],
   "source": []
  },
  {
   "cell_type": "code",
   "execution_count": null,
   "id": "312882b7-5f38-4e11-af3f-66d3055d0c28",
   "metadata": {},
   "outputs": [],
   "source": []
  },
  {
   "cell_type": "code",
   "execution_count": null,
   "id": "48f7cc00-2933-4465-906d-7aff08dda67d",
   "metadata": {},
   "outputs": [],
   "source": []
  },
  {
   "cell_type": "markdown",
   "id": "5e403368-8492-430a-a7fc-9ff3e642cc4c",
   "metadata": {},
   "source": [
    "# Type Casting"
   ]
  },
  {
   "cell_type": "code",
   "execution_count": null,
   "id": "d95e57e4-d818-4f26-953c-54788317fd16",
   "metadata": {},
   "outputs": [],
   "source": []
  },
  {
   "cell_type": "markdown",
   "id": "666c55d4-fcc0-447e-8c99-8152252af056",
   "metadata": {},
   "source": [
    "# Implicit"
   ]
  },
  {
   "cell_type": "code",
   "execution_count": null,
   "id": "d78dcb1d-c037-41ba-a984-e5633f16a24b",
   "metadata": {},
   "outputs": [],
   "source": []
  },
  {
   "cell_type": "code",
   "execution_count": 102,
   "id": "404bdb56-cdf2-4c79-b8bd-fc6c8fec8f2c",
   "metadata": {
    "tags": []
   },
   "outputs": [],
   "source": [
    "a = 15 \n",
    "b = 7.5"
   ]
  },
  {
   "cell_type": "code",
   "execution_count": 104,
   "id": "f632bf63-e95c-4ec5-9f50-0c423950d42e",
   "metadata": {
    "tags": []
   },
   "outputs": [],
   "source": [
    "c =a + b"
   ]
  },
  {
   "cell_type": "code",
   "execution_count": 105,
   "id": "2591e743-aa58-4415-96b3-9511894f1074",
   "metadata": {
    "tags": []
   },
   "outputs": [
    {
     "data": {
      "text/plain": [
       "float"
      ]
     },
     "execution_count": 105,
     "metadata": {},
     "output_type": "execute_result"
    }
   ],
   "source": [
    "type(c)"
   ]
  },
  {
   "cell_type": "code",
   "execution_count": null,
   "id": "24f94178-ad32-43a5-9be5-47d944e027c7",
   "metadata": {},
   "outputs": [],
   "source": []
  },
  {
   "cell_type": "code",
   "execution_count": 106,
   "id": "c2c4e796-eea3-4682-ab9b-36df5257b45f",
   "metadata": {
    "tags": []
   },
   "outputs": [],
   "source": [
    "d = 10\n",
    "e= True"
   ]
  },
  {
   "cell_type": "code",
   "execution_count": 107,
   "id": "241488e0-3a48-4450-a2ca-8cc60aa3cd85",
   "metadata": {
    "tags": []
   },
   "outputs": [
    {
     "data": {
      "text/plain": [
       "11"
      ]
     },
     "execution_count": 107,
     "metadata": {},
     "output_type": "execute_result"
    }
   ],
   "source": [
    "d+e"
   ]
  },
  {
   "cell_type": "code",
   "execution_count": 109,
   "id": "cff4b20d-5cbc-44cd-9f19-49ad1fdcab9a",
   "metadata": {
    "tags": []
   },
   "outputs": [
    {
     "data": {
      "text/plain": [
       "8.5"
      ]
     },
     "execution_count": 109,
     "metadata": {},
     "output_type": "execute_result"
    }
   ],
   "source": [
    "b + e"
   ]
  },
  {
   "cell_type": "code",
   "execution_count": null,
   "id": "e01a7446-5f13-43ba-933b-c95c9916c750",
   "metadata": {},
   "outputs": [],
   "source": []
  },
  {
   "cell_type": "code",
   "execution_count": 110,
   "id": "32e5aa4c-a7ad-48ea-bd63-e94c7b14d889",
   "metadata": {
    "tags": []
   },
   "outputs": [],
   "source": [
    "num1 = 10"
   ]
  },
  {
   "cell_type": "code",
   "execution_count": 111,
   "id": "2c3b9b98-da81-42bf-ad4d-973c2b1ac280",
   "metadata": {
    "tags": []
   },
   "outputs": [],
   "source": [
    "num2 = \"6\""
   ]
  },
  {
   "cell_type": "code",
   "execution_count": 114,
   "id": "b946c5f0-78c1-4439-b216-75762b4c130e",
   "metadata": {
    "tags": []
   },
   "outputs": [
    {
     "data": {
      "text/plain": [
       "6"
      ]
     },
     "execution_count": 114,
     "metadata": {},
     "output_type": "execute_result"
    }
   ],
   "source": [
    "int(num2)"
   ]
  },
  {
   "cell_type": "code",
   "execution_count": 115,
   "id": "20ec1822-25de-44eb-bbb3-eb5d1b5e761d",
   "metadata": {
    "tags": []
   },
   "outputs": [
    {
     "ename": "ValueError",
     "evalue": "invalid literal for int() with base 10: 'python'",
     "output_type": "error",
     "traceback": [
      "\u001b[0;31m---------------------------------------------------------------------------\u001b[0m",
      "\u001b[0;31mValueError\u001b[0m                                Traceback (most recent call last)",
      "Cell \u001b[0;32mIn[115], line 1\u001b[0m\n\u001b[0;32m----> 1\u001b[0m \u001b[38;5;28mint\u001b[39m(\u001b[38;5;124m\"\u001b[39m\u001b[38;5;124mpython\u001b[39m\u001b[38;5;124m\"\u001b[39m)\n",
      "\u001b[0;31mValueError\u001b[0m: invalid literal for int() with base 10: 'python'"
     ]
    }
   ],
   "source": [
    "int(\"python\")"
   ]
  },
  {
   "cell_type": "code",
   "execution_count": 112,
   "id": "ae592031-14d9-4be2-b9a5-c3b65ee096cd",
   "metadata": {
    "tags": []
   },
   "outputs": [
    {
     "ename": "TypeError",
     "evalue": "unsupported operand type(s) for +: 'int' and 'str'",
     "output_type": "error",
     "traceback": [
      "\u001b[0;31m---------------------------------------------------------------------------\u001b[0m",
      "\u001b[0;31mTypeError\u001b[0m                                 Traceback (most recent call last)",
      "Cell \u001b[0;32mIn[112], line 1\u001b[0m\n\u001b[0;32m----> 1\u001b[0m num1 \u001b[38;5;241m+\u001b[39m num2\n",
      "\u001b[0;31mTypeError\u001b[0m: unsupported operand type(s) for +: 'int' and 'str'"
     ]
    }
   ],
   "source": [
    "num1 + num2"
   ]
  },
  {
   "cell_type": "code",
   "execution_count": 113,
   "id": "1d5df585-c8fa-4403-829e-bfb37008baa0",
   "metadata": {
    "tags": []
   },
   "outputs": [
    {
     "data": {
      "text/plain": [
       "16"
      ]
     },
     "execution_count": 113,
     "metadata": {},
     "output_type": "execute_result"
    }
   ],
   "source": [
    "num1 + int(num2)"
   ]
  },
  {
   "cell_type": "code",
   "execution_count": null,
   "id": "8cba4023-0e22-415c-9cd2-769dded9fb9d",
   "metadata": {},
   "outputs": [],
   "source": []
  },
  {
   "cell_type": "code",
   "execution_count": 118,
   "id": "990f80f9-e522-4cb5-9985-904f43fa1980",
   "metadata": {
    "tags": []
   },
   "outputs": [
    {
     "data": {
      "text/plain": [
       "'5python'"
      ]
     },
     "execution_count": 118,
     "metadata": {},
     "output_type": "execute_result"
    }
   ],
   "source": [
    "str(5) + \"python\""
   ]
  },
  {
   "cell_type": "code",
   "execution_count": null,
   "id": "3211cadf-ea3c-4b6b-9786-6817c54d4c01",
   "metadata": {},
   "outputs": [],
   "source": []
  },
  {
   "cell_type": "code",
   "execution_count": 119,
   "id": "9e42450c-ddb0-4770-a7d1-eb321603ee12",
   "metadata": {
    "tags": []
   },
   "outputs": [
    {
     "data": {
      "text/plain": [
       "''"
      ]
     },
     "execution_count": 119,
     "metadata": {},
     "output_type": "execute_result"
    }
   ],
   "source": [
    "int()\n",
    "float()\n",
    "bool()\n",
    "complex()\n",
    "str()\n"
   ]
  },
  {
   "cell_type": "code",
   "execution_count": 121,
   "id": "7d1095be-151f-45a3-9051-1506cab52711",
   "metadata": {
    "tags": []
   },
   "outputs": [
    {
     "data": {
      "text/plain": [
       "True"
      ]
     },
     "execution_count": 121,
     "metadata": {},
     "output_type": "execute_result"
    }
   ],
   "source": [
    "bool(1)"
   ]
  }
 ],
 "metadata": {
  "kernelspec": {
   "display_name": "Python 3 (ipykernel)",
   "language": "python",
   "name": "python3"
  },
  "language_info": {
   "codemirror_mode": {
    "name": "ipython",
    "version": 3
   },
   "file_extension": ".py",
   "mimetype": "text/x-python",
   "name": "python",
   "nbconvert_exporter": "python",
   "pygments_lexer": "ipython3",
   "version": "3.11.5"
  }
 },
 "nbformat": 4,
 "nbformat_minor": 5
}
