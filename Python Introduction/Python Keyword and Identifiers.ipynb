{
 "cells": [
  {
   "cell_type": "markdown",
   "id": "17a0a69a-b8bc-48b9-adc2-edaeb9130216",
   "metadata": {},
   "source": [
    "# Identifiers in Python"
   ]
  },
  {
   "cell_type": "code",
   "execution_count": 2,
   "id": "b3eb8ac2-8679-45d8-b0d1-8f2e40e590a7",
   "metadata": {
    "tags": []
   },
   "outputs": [],
   "source": [
    "a = 1"
   ]
  },
  {
   "cell_type": "code",
   "execution_count": 3,
   "id": "51b33dcd-dd8e-4fc3-84a6-28f06701ea64",
   "metadata": {
    "tags": []
   },
   "outputs": [
    {
     "data": {
      "text/plain": [
       "1"
      ]
     },
     "execution_count": 3,
     "metadata": {},
     "output_type": "execute_result"
    }
   ],
   "source": [
    "a"
   ]
  },
  {
   "cell_type": "code",
   "execution_count": 4,
   "id": "5f0687bb-07c4-44aa-913c-a0d1ff1788fd",
   "metadata": {
    "tags": []
   },
   "outputs": [],
   "source": [
    "name = 'mayank'"
   ]
  },
  {
   "cell_type": "code",
   "execution_count": null,
   "id": "27adf49b-5596-415f-9c15-d97109af549f",
   "metadata": {},
   "outputs": [],
   "source": []
  },
  {
   "cell_type": "code",
   "execution_count": 6,
   "id": "da3c2ae8-0a7f-4ea9-a873-c89b1d1937b8",
   "metadata": {
    "tags": []
   },
   "outputs": [
    {
     "ename": "SyntaxError",
     "evalue": "invalid decimal literal (2501866044.py, line 1)",
     "output_type": "error",
     "traceback": [
      "\u001b[0;36m  Cell \u001b[0;32mIn[6], line 1\u001b[0;36m\u001b[0m\n\u001b[0;31m    0i = 5\u001b[0m\n\u001b[0m    ^\u001b[0m\n\u001b[0;31mSyntaxError\u001b[0m\u001b[0;31m:\u001b[0m invalid decimal literal\n"
     ]
    }
   ],
   "source": [
    "0i = 5"
   ]
  },
  {
   "cell_type": "code",
   "execution_count": null,
   "id": "d3f96dae-2645-4f14-b03d-c74d06e69959",
   "metadata": {},
   "outputs": [],
   "source": [
    "a-z\n",
    "A-Z\n",
    "_"
   ]
  },
  {
   "cell_type": "code",
   "execution_count": 7,
   "id": "6515d193-51e2-46f2-9e26-d2efcb259b84",
   "metadata": {
    "tags": []
   },
   "outputs": [],
   "source": [
    "a_ = 5"
   ]
  },
  {
   "cell_type": "code",
   "execution_count": 8,
   "id": "ac76748e-f7a4-42a4-af7e-5d91a29e778b",
   "metadata": {
    "tags": []
   },
   "outputs": [],
   "source": [
    "_a = 10"
   ]
  },
  {
   "cell_type": "code",
   "execution_count": null,
   "id": "27c365cd-9b9e-4c17-ab8c-a1ede793d5c2",
   "metadata": {},
   "outputs": [],
   "source": []
  },
  {
   "cell_type": "code",
   "execution_count": 9,
   "id": "42af36ff-5d5b-4731-a8c2-e8c3ae253075",
   "metadata": {
    "tags": []
   },
   "outputs": [],
   "source": [
    "name = \"mayank\"\n",
    "Name = 'abc'\n",
    "nAme = 'def'"
   ]
  },
  {
   "cell_type": "code",
   "execution_count": 10,
   "id": "fb08c2b3-b2c7-4394-970b-bbe232d66994",
   "metadata": {
    "tags": []
   },
   "outputs": [
    {
     "data": {
      "text/plain": [
       "'mayank'"
      ]
     },
     "execution_count": 10,
     "metadata": {},
     "output_type": "execute_result"
    }
   ],
   "source": [
    "name"
   ]
  },
  {
   "cell_type": "code",
   "execution_count": 11,
   "id": "ad4e29b4-2807-4e45-8cc8-677445e54f6e",
   "metadata": {
    "tags": []
   },
   "outputs": [
    {
     "data": {
      "text/plain": [
       "'abc'"
      ]
     },
     "execution_count": 11,
     "metadata": {},
     "output_type": "execute_result"
    }
   ],
   "source": [
    "Name"
   ]
  },
  {
   "cell_type": "code",
   "execution_count": 12,
   "id": "a7cabad2-5595-4ffc-8791-070b9a9e4720",
   "metadata": {
    "tags": []
   },
   "outputs": [
    {
     "data": {
      "text/plain": [
       "'def'"
      ]
     },
     "execution_count": 12,
     "metadata": {},
     "output_type": "execute_result"
    }
   ],
   "source": [
    "nAme"
   ]
  },
  {
   "cell_type": "markdown",
   "id": "982534b1-0a62-4d6b-beed-5c81f225bb67",
   "metadata": {},
   "source": [
    "### Identifiers in Python\n",
    "\n",
    "Identifiers in Python are names given to various elements in a program, such as variables, functions, classes, etc. These names are used to uniquely identify these elements within the program.\n",
    "\n",
    "#### Permitted Conditions for Naming Identifiers:\n",
    "\n",
    "Identifiers in Python must adhere to certain rules and conventions for naming. Here are the permitted conditions for naming identifiers:\n",
    "\n",
    "1.  **Start with a Letter (a-z, A-Z) or Underscore (_):**\n",
    "\n",
    "    -   Identifiers can begin with a letter (both lowercase and uppercase) or an underscore.\n",
    "    -   Examples: `variable`, `_variable`, `Function`, `_Function`\n",
    "2.  **Followed by Letters (a-z, A-Z), Digits (0-9), or Underscores (_):**\n",
    "\n",
    "    -   After the first character, identifiers can contain letters (both lowercase and uppercase), digits, or underscores.\n",
    "    -   Examples: `variable1`, `Var_2`, `function_name_3`\n",
    "3.  **Cannot Start with a Digit (0-9):**\n",
    "\n",
    "    -   Identifiers cannot start with a digit.\n",
    "    -   Examples: `1variable` (Invalid), `2nd_function` (Invalid)\n",
    "4.  **Cannot Contain Special Characters (e.g., @, $, %, &, etc.):**\n",
    "\n",
    "    -   Identifiers cannot contain special characters except for the underscore (_).\n",
    "    -   Examples: `var@iable` (Invalid), `my$variable` (Invalid)\n",
    "5.  **Case-Sensitive:**\n",
    "\n",
    "    -   Python identifiers are case-sensitive, meaning `variable` and `Variable` are considered as two different identifiers.\n",
    "    -   Examples: `variable`, `Variable`"
   ]
  },
  {
   "cell_type": "code",
   "execution_count": 13,
   "id": "7c7d04fd-999c-4f3f-9dce-44dfac44a8ca",
   "metadata": {
    "tags": []
   },
   "outputs": [
    {
     "ename": "SyntaxError",
     "evalue": "invalid syntax (1487867706.py, line 1)",
     "output_type": "error",
     "traceback": [
      "\u001b[0;36m  Cell \u001b[0;32mIn[13], line 1\u001b[0;36m\u001b[0m\n\u001b[0;31m    raise = 10\u001b[0m\n\u001b[0m          ^\u001b[0m\n\u001b[0;31mSyntaxError\u001b[0m\u001b[0;31m:\u001b[0m invalid syntax\n"
     ]
    }
   ],
   "source": [
    "raise = 10"
   ]
  },
  {
   "cell_type": "code",
   "execution_count": null,
   "id": "8ad2d918-41ef-4bf9-9690-7072b4496840",
   "metadata": {},
   "outputs": [],
   "source": []
  },
  {
   "cell_type": "code",
   "execution_count": 14,
   "id": "34887bae-f9cf-4c06-853a-6a944a5088a7",
   "metadata": {
    "tags": []
   },
   "outputs": [],
   "source": [
    "import keyword"
   ]
  },
  {
   "cell_type": "code",
   "execution_count": 15,
   "id": "13b27433-5625-4eb0-9b29-e5fe263de6f2",
   "metadata": {
    "tags": []
   },
   "outputs": [
    {
     "data": {
      "text/plain": [
       "['False',\n",
       " 'None',\n",
       " 'True',\n",
       " 'and',\n",
       " 'as',\n",
       " 'assert',\n",
       " 'async',\n",
       " 'await',\n",
       " 'break',\n",
       " 'class',\n",
       " 'continue',\n",
       " 'def',\n",
       " 'del',\n",
       " 'elif',\n",
       " 'else',\n",
       " 'except',\n",
       " 'finally',\n",
       " 'for',\n",
       " 'from',\n",
       " 'global',\n",
       " 'if',\n",
       " 'import',\n",
       " 'in',\n",
       " 'is',\n",
       " 'lambda',\n",
       " 'nonlocal',\n",
       " 'not',\n",
       " 'or',\n",
       " 'pass',\n",
       " 'raise',\n",
       " 'return',\n",
       " 'try',\n",
       " 'while',\n",
       " 'with',\n",
       " 'yield']"
      ]
     },
     "execution_count": 15,
     "metadata": {},
     "output_type": "execute_result"
    }
   ],
   "source": [
    "keyword.kwlist"
   ]
  },
  {
   "cell_type": "code",
   "execution_count": 16,
   "id": "03e0e14f-1046-446d-b383-fecab1155a15",
   "metadata": {
    "tags": []
   },
   "outputs": [
    {
     "ename": "SyntaxError",
     "evalue": "invalid syntax (1549114973.py, line 1)",
     "output_type": "error",
     "traceback": [
      "\u001b[0;36m  Cell \u001b[0;32mIn[16], line 1\u001b[0;36m\u001b[0m\n\u001b[0;31m    for = 10\u001b[0m\n\u001b[0m        ^\u001b[0m\n\u001b[0;31mSyntaxError\u001b[0m\u001b[0;31m:\u001b[0m invalid syntax\n"
     ]
    }
   ],
   "source": [
    "for = 10"
   ]
  },
  {
   "cell_type": "code",
   "execution_count": 17,
   "id": "19ea4a8d-29b2-494a-a950-1ddc2b1266da",
   "metadata": {
    "tags": []
   },
   "outputs": [
    {
     "ename": "SyntaxError",
     "evalue": "invalid syntax (2568953467.py, line 1)",
     "output_type": "error",
     "traceback": [
      "\u001b[0;36m  Cell \u001b[0;32mIn[17], line 1\u001b[0;36m\u001b[0m\n\u001b[0;31m    if = 10\u001b[0m\n\u001b[0m       ^\u001b[0m\n\u001b[0;31mSyntaxError\u001b[0m\u001b[0;31m:\u001b[0m invalid syntax\n"
     ]
    }
   ],
   "source": [
    "if = 10\n"
   ]
  },
  {
   "cell_type": "code",
   "execution_count": null,
   "id": "4d96245c-47f5-4bdb-af06-d5b422e50be0",
   "metadata": {},
   "outputs": [],
   "source": []
  }
 ],
 "metadata": {
  "kernelspec": {
   "display_name": "Python 3 (ipykernel)",
   "language": "python",
   "name": "python3"
  },
  "language_info": {
   "codemirror_mode": {
    "name": "ipython",
    "version": 3
   },
   "file_extension": ".py",
   "mimetype": "text/x-python",
   "name": "python",
   "nbconvert_exporter": "python",
   "pygments_lexer": "ipython3",
   "version": "3.11.5"
  }
 },
 "nbformat": 4,
 "nbformat_minor": 5
}
